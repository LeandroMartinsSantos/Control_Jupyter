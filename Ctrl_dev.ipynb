{
 "cells": [
  {
   "cell_type": "code",
   "execution_count": 32,
   "metadata": {},
   "outputs": [],
   "source": [
    "import control\n",
    "from control import TransferFunction as tf\n",
    "from control import pole as pole\n",
    "from control import damp as damp\n",
    "from control import step_response as step\n",
    "from control import bode as bode\n",
    "from control import nyquist_plot as nyquist\n",
    "\n",
    "from control import matlab\n",
    "\n",
    "import matplotlib as mpl\n",
    "from matplotlib.pyplot import plot as plot\n",
    "\n",
    "import numpy\n",
    "from numpy import pi as pi\n"
   ]
  },
  {
   "cell_type": "code",
   "execution_count": 180,
   "metadata": {},
   "outputs": [
    {
     "name": "stdout",
     "output_type": "stream",
     "text": [
      "\n",
      "     1\n",
      "-----------\n",
      "1000 s + 50\n",
      "\n",
      "[-0.05]\n",
      "[]\n"
     ]
    },
    {
     "data": {
      "image/png": "[encoded data removed]",
      "text/plain": [
       "<Figure size 432x288 with 1 Axes>"
      ]
     },
     "metadata": {
      "needs_background": "light"
     },
     "output_type": "display_data"
    }
   ],
   "source": [
    "num=[1]\n",
    "den=[1000,50]\n",
    "\n",
    "G=tf(num,den)\n",
    "\n",
    "print(G)\n",
    "t,y=step(500*G)\n",
    "plot(t,y)\n",
    "mpl.pyplot.grid(1)\n",
    "print(control.pole(G))\n",
    "print(control.zero(G))\n"
   ]
  }
 ],
 "metadata": {
  "kernelspec": {
   "display_name": "Python 3",
   "language": "python",
   "name": "python3"
  },
  "language_info": {
   "codemirror_mode": {
    "name": "ipython",
    "version": 3
   },
   "file_extension": ".py",
   "mimetype": "text/x-python",
   "name": "python",
   "nbconvert_exporter": "python",
   "pygments_lexer": "ipython3",
   "version": "3.8.5"
  }
 },
 "nbformat": 4,
 "nbformat_minor": 4
}
